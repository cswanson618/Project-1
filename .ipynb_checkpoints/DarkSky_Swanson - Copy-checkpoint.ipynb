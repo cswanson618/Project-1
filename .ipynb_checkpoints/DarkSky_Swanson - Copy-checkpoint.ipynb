{
 "cells": [
  {
   "cell_type": "code",
   "execution_count": 1,
   "metadata": {},
   "outputs": [],
   "source": [
    "import matplotlib.pyplot as plt\n",
    "import pandas as pd\n",
    "import numpy as np\n",
    "import requests\n",
    "import time\n",
    "import json\n",
    "import os\n",
    "import pprint\n",
    "from states import us_states\n",
    "from citipy import citipy\n",
    "lat_range = (19.50139, 64.85694)\n",
    "lng_range = (-161.75583, -68.01197)"
   ]
  },
  {
   "cell_type": "code",
   "execution_count": 2,
   "metadata": {
    "jupyter": {
     "source_hidden": true
    }
   },
   "outputs": [
    {
     "data": {
      "text/plain": [
       "725"
      ]
     },
     "execution_count": 2,
     "metadata": {},
     "output_type": "execute_result"
    }
   ],
   "source": [
    "#Leftover starter code from weather project in case we want to use openweathermap API\n",
    "lat_lngs = []\n",
    "cities = []\n",
    "\n",
    "lats = np.random.uniform(low=19.50139, high=64.85694, size=1500)\n",
    "lngs = np.random.uniform(low=-161.75583, high=67.01197, size=1500)\n",
    "lat_lngs = zip(lats, lngs)\n",
    "\n",
    "for lat_lng in lat_lngs:\n",
    "    city = citipy.nearest_city(lat_lng[0], lat_lng[1]).city_name\n",
    "    \n",
    "    if city not in cities:\n",
    "        cities.append(city)\n",
    "        \n",
    "len(cities)"
   ]
  },
  {
   "cell_type": "code",
   "execution_count": 3,
   "metadata": {},
   "outputs": [
    {
     "data": {
      "text/plain": [
       "[]"
      ]
     },
     "execution_count": 3,
     "metadata": {},
     "output_type": "execute_result"
    }
   ],
   "source": [
    "json_files = [file for file in os.listdir() if file.endswith(\"json\")]\n",
    "json_files"
   ]
  },
  {
   "cell_type": "code",
   "execution_count": 6,
   "metadata": {},
   "outputs": [],
   "source": [
    "def DS_Data(state):\n",
    "    if f\"{state}.json\" not in json_files:\n",
    "        url = \"https://www.datastro.eu/api/records/1.0/search/\"\n",
    "        payload  = {\"dataset\": \"imageserver\",\n",
    "                    \"rows\": \"9999\",\n",
    "                    \"sort\": \"limitingmag\",\n",
    "                    \"facet\": \"limitingmag\",\n",
    "                    \"facet\": \"localdate\",\n",
    "                    \"facet\": \"utdate\",\n",
    "                    \"facet\": \"sqmreading\",\n",
    "                    \"facet\": \"sqmserial\",\n",
    "                    \"facet\": \"cloudcover\",\n",
    "                    \"facet\": \"constellation\",\n",
    "                    \"facet\": \"country\",\n",
    "                    \"facet\": \"filename\",\n",
    "                    \"refine.country\": state\n",
    "               }\n",
    "        r = requests.get(url, params=payload)\n",
    "        d = r.json()\n",
    "\n",
    "        records = [\n",
    "            {\n",
    "                \"Country\": record[\"fields\"][\"country\"],\n",
    "                \"Limiting Magnitude\": record[\"fields\"][\"limitingmag\"],\n",
    "                \"Date\": record[\"fields\"][\"localdate\"],\n",
    "                \"Coordinates\": record[\"fields\"][\"coord\"]} for record in d[\"records\"]]\n",
    "    \n",
    "        with open(f\"{state}.json\", \"w+\") as f:\n",
    "            f.write(json.dumps(records))"
   ]
  },
  {
   "cell_type": "code",
   "execution_count": 7,
   "metadata": {},
   "outputs": [
    {
     "ename": "KeyError",
     "evalue": "'coord'",
     "output_type": "error",
     "traceback": [
      "\u001b[1;31m---------------------------------------------------------------------------\u001b[0m",
      "\u001b[1;31mKeyError\u001b[0m                                  Traceback (most recent call last)",
      "\u001b[1;32m<ipython-input-7-1ca698bc8c4c>\u001b[0m in \u001b[0;36m<module>\u001b[1;34m\u001b[0m\n\u001b[0;32m      1\u001b[0m \u001b[1;32mfor\u001b[0m \u001b[0mstate\u001b[0m \u001b[1;32min\u001b[0m \u001b[0mus_states\u001b[0m\u001b[1;33m:\u001b[0m\u001b[1;33m\u001b[0m\u001b[1;33m\u001b[0m\u001b[0m\n\u001b[1;32m----> 2\u001b[1;33m     \u001b[0mresult\u001b[0m \u001b[1;33m=\u001b[0m \u001b[0mDS_Data\u001b[0m\u001b[1;33m(\u001b[0m\u001b[0mstate\u001b[0m\u001b[1;33m)\u001b[0m\u001b[1;33m\u001b[0m\u001b[1;33m\u001b[0m\u001b[0m\n\u001b[0m",
      "\u001b[1;32m<ipython-input-6-d8bdc10bfe92>\u001b[0m in \u001b[0;36mDS_Data\u001b[1;34m(state)\u001b[0m\n\u001b[0;32m     24\u001b[0m                 \u001b[1;34m\"Limiting Magnitude\"\u001b[0m\u001b[1;33m:\u001b[0m \u001b[0mrecord\u001b[0m\u001b[1;33m[\u001b[0m\u001b[1;34m\"fields\"\u001b[0m\u001b[1;33m]\u001b[0m\u001b[1;33m[\u001b[0m\u001b[1;34m\"limitingmag\"\u001b[0m\u001b[1;33m]\u001b[0m\u001b[1;33m,\u001b[0m\u001b[1;33m\u001b[0m\u001b[1;33m\u001b[0m\u001b[0m\n\u001b[0;32m     25\u001b[0m                 \u001b[1;34m\"Date\"\u001b[0m\u001b[1;33m:\u001b[0m \u001b[0mrecord\u001b[0m\u001b[1;33m[\u001b[0m\u001b[1;34m\"fields\"\u001b[0m\u001b[1;33m]\u001b[0m\u001b[1;33m[\u001b[0m\u001b[1;34m\"localdate\"\u001b[0m\u001b[1;33m]\u001b[0m\u001b[1;33m,\u001b[0m\u001b[1;33m\u001b[0m\u001b[1;33m\u001b[0m\u001b[0m\n\u001b[1;32m---> 26\u001b[1;33m                 \"Coordinates\": record[\"fields\"][\"coord\"]} for record in d[\"records\"]]\n\u001b[0m\u001b[0;32m     27\u001b[0m \u001b[1;33m\u001b[0m\u001b[0m\n\u001b[0;32m     28\u001b[0m         \u001b[1;32mwith\u001b[0m \u001b[0mopen\u001b[0m\u001b[1;33m(\u001b[0m\u001b[1;34mf\"{state}.json\"\u001b[0m\u001b[1;33m,\u001b[0m \u001b[1;34m\"w+\"\u001b[0m\u001b[1;33m)\u001b[0m \u001b[1;32mas\u001b[0m \u001b[0mf\u001b[0m\u001b[1;33m:\u001b[0m\u001b[1;33m\u001b[0m\u001b[1;33m\u001b[0m\u001b[0m\n",
      "\u001b[1;32m<ipython-input-6-d8bdc10bfe92>\u001b[0m in \u001b[0;36m<listcomp>\u001b[1;34m(.0)\u001b[0m\n\u001b[0;32m     24\u001b[0m                 \u001b[1;34m\"Limiting Magnitude\"\u001b[0m\u001b[1;33m:\u001b[0m \u001b[0mrecord\u001b[0m\u001b[1;33m[\u001b[0m\u001b[1;34m\"fields\"\u001b[0m\u001b[1;33m]\u001b[0m\u001b[1;33m[\u001b[0m\u001b[1;34m\"limitingmag\"\u001b[0m\u001b[1;33m]\u001b[0m\u001b[1;33m,\u001b[0m\u001b[1;33m\u001b[0m\u001b[1;33m\u001b[0m\u001b[0m\n\u001b[0;32m     25\u001b[0m                 \u001b[1;34m\"Date\"\u001b[0m\u001b[1;33m:\u001b[0m \u001b[0mrecord\u001b[0m\u001b[1;33m[\u001b[0m\u001b[1;34m\"fields\"\u001b[0m\u001b[1;33m]\u001b[0m\u001b[1;33m[\u001b[0m\u001b[1;34m\"localdate\"\u001b[0m\u001b[1;33m]\u001b[0m\u001b[1;33m,\u001b[0m\u001b[1;33m\u001b[0m\u001b[1;33m\u001b[0m\u001b[0m\n\u001b[1;32m---> 26\u001b[1;33m                 \"Coordinates\": record[\"fields\"][\"coord\"]} for record in d[\"records\"]]\n\u001b[0m\u001b[0;32m     27\u001b[0m \u001b[1;33m\u001b[0m\u001b[0m\n\u001b[0;32m     28\u001b[0m         \u001b[1;32mwith\u001b[0m \u001b[0mopen\u001b[0m\u001b[1;33m(\u001b[0m\u001b[1;34mf\"{state}.json\"\u001b[0m\u001b[1;33m,\u001b[0m \u001b[1;34m\"w+\"\u001b[0m\u001b[1;33m)\u001b[0m \u001b[1;32mas\u001b[0m \u001b[0mf\u001b[0m\u001b[1;33m:\u001b[0m\u001b[1;33m\u001b[0m\u001b[1;33m\u001b[0m\u001b[0m\n",
      "\u001b[1;31mKeyError\u001b[0m: 'coord'"
     ]
    }
   ],
   "source": [
    "for state in us_states:\n",
    "    result = DS_Data(state)"
   ]
  },
  {
   "cell_type": "code",
   "execution_count": null,
   "metadata": {},
   "outputs": [],
   "source": []
  },
  {
   "cell_type": "code",
   "execution_count": null,
   "metadata": {},
   "outputs": [],
   "source": [
    "# def Dark_Sky_Data(us_states):\n",
    "#     url = \"https://www.datastro.eu/api/records/1.0/search/\"\n",
    "#     payload  = {\"dataset\": \"imageserver\",\n",
    "#                 \"rows\": \"100000\",\n",
    "#                 \"sort\": \"limitingmag\",\n",
    "#                 \"facet\": \"limitingmag\",\n",
    "#                 \"facet\": \"localdate\",\n",
    "#                 \"facet\": \"utdate\",\n",
    "#                 \"facet\": \"sqmreading\",\n",
    "#                 \"facet\": \"sqmserial\",\n",
    "#                 \"facet\": \"cloudcover\",\n",
    "#                 \"facet\": \"constellation\",\n",
    "#                 \"facet\": \"country\",\n",
    "#                 \"facet\": \"filename\",\n",
    "#                 \"refine.country\": us_states\n",
    "#                }\n",
    "#     r = requests.get(url, params=payload)\n",
    "#     return r.json()"
   ]
  },
  {
   "cell_type": "code",
   "execution_count": null,
   "metadata": {},
   "outputs": [],
   "source": [
    "# Dark_Sky_Data(us_states)\n",
    "# data = []\n",
    "# for us_state in us_states:\n",
    "#     result = Dark_Sky_Data(us_state)\n",
    "#     if result:\n",
    "#         data.append(result)"
   ]
  },
  {
   "cell_type": "code",
   "execution_count": null,
   "metadata": {},
   "outputs": [],
   "source": [
    "# datalist= [data]"
   ]
  },
  {
   "cell_type": "code",
   "execution_count": null,
   "metadata": {},
   "outputs": [],
   "source": [
    "# inner_list = data[0]"
   ]
  },
  {
   "cell_type": "code",
   "execution_count": null,
   "metadata": {},
   "outputs": [],
   "source": [
    "# type(inner_list)"
   ]
  },
  {
   "cell_type": "code",
   "execution_count": null,
   "metadata": {},
   "outputs": [],
   "source": [
    "# [for record ]"
   ]
  },
  {
   "cell_type": "code",
   "execution_count": null,
   "metadata": {},
   "outputs": [],
   "source": [
    "# skyframe = pd.DataFrame([\n",
    "#     {\n",
    "#         \"Country\": item[\"records\"][\"fields\"][\"country\"],\n",
    "#         \"Limiting Magnitude\": item[\"fields\"][\"limitingmag\"],\n",
    "#         \"Date\": item[\"fields\"][\"localdate\"],\n",
    "#         \"Coordinates\": item[\"fields\"][\"coord\"]\n",
    "#     } \n",
    "\n",
    "#     for item in data)"
   ]
  },
  {
   "cell_type": "code",
   "execution_count": null,
   "metadata": {},
   "outputs": [],
   "source": [
    "skyframe"
   ]
  },
  {
   "cell_type": "code",
   "execution_count": null,
   "metadata": {},
   "outputs": [],
   "source": []
  }
 ],
 "metadata": {
  "kernelspec": {
   "display_name": "apishwfull",
   "language": "python",
   "name": "apishwfull"
  },
  "language_info": {
   "codemirror_mode": {
    "name": "ipython",
    "version": 3
   },
   "file_extension": ".py",
   "mimetype": "text/x-python",
   "name": "python",
   "nbconvert_exporter": "python",
   "pygments_lexer": "ipython3",
   "version": "3.7.5"
  }
 },
 "nbformat": 4,
 "nbformat_minor": 4
}
