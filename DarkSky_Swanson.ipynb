{
 "cells": [
  {
   "cell_type": "code",
   "execution_count": null,
   "metadata": {},
   "outputs": [],
   "source": [
    "import matplotlib.pyplot as plt\n",
    "import pandas as pd\n",
    "import numpy as np\n",
    "import requests\n",
    "import time\n",
    "import json\n",
    "import os\n",
    "import pprint\n",
    "from states import us_states\n",
    "from citipy import citipy\n",
    "lat_range = (19.50139, 64.85694)\n",
    "lng_range = (-161.75583, -68.01197)"
   ]
  },
  {
   "cell_type": "code",
   "execution_count": null,
   "metadata": {
    "jupyter": {
     "source_hidden": true
    }
   },
   "outputs": [],
   "source": [
    "#Leftover starter code from weather project in case we want to use openweathermap API\n",
    "lat_lngs = []\n",
    "cities = []\n",
    "\n",
    "lats = np.random.uniform(low=19.50139, high=64.85694, size=1500)\n",
    "lngs = np.random.uniform(low=-161.75583, high=67.01197, size=1500)\n",
    "lat_lngs = zip(lats, lngs)\n",
    "\n",
    "for lat_lng in lat_lngs:\n",
    "    city = citipy.nearest_city(lat_lng[0], lat_lng[1]).city_name\n",
    "    \n",
    "    if city not in cities:\n",
    "        cities.append(city)\n",
    "        \n",
    "len(cities)"
   ]
  },
  {
   "cell_type": "code",
   "execution_count": null,
   "metadata": {},
   "outputs": [],
   "source": [
    "json_files = [file for file in os.listdir() if file.endswith(\"json\")]\n",
    "json_files"
   ]
  },
  {
   "cell_type": "code",
   "execution_count": null,
   "metadata": {},
   "outputs": [],
   "source": [
    "def DS_Data(state):\n",
    "    if f\"{state}.json\" not in json_files:\n",
    "        url = \"https://www.datastro.eu/api/records/1.0/search/\"\n",
    "        payload  = {\"dataset\": \"imageserver\",\n",
    "                    \"rows\": \"9999\",\n",
    "                    \"sort\": \"limitingmag\",\n",
    "                    \"facet\": \"limitingmag\",\n",
    "                    \"facet\": \"localdate\",\n",
    "                    \"facet\": \"utdate\",\n",
    "                    \"facet\": \"sqmreading\",\n",
    "                    \"facet\": \"sqmserial\",\n",
    "                    \"facet\": \"cloudcover\",\n",
    "                    \"facet\": \"constellation\",\n",
    "                    \"facet\": \"country\",\n",
    "                    \"facet\": \"filename\",\n",
    "                    \"refine.country\": state\n",
    "               }\n",
    "        r = requests.get(url, params=payload)\n",
    "        d = r.json()\n",
    "\n",
    "        records = [\n",
    "            {\n",
    "                \"Country\": record[\"fields\"][\"country\"],\n",
    "                \"Limiting Magnitude\": record[\"fields\"][\"limitingmag\"],\n",
    "                \"Date\": record[\"fields\"][\"localdate\"],\n",
    "                \"Coordinates\": record[\"fields\"][\"coord\"]} for record in d[\"records\"]]\n",
    "    \n",
    "        with open(f\"{state}.json\", \"w+\") as f:\n",
    "            f.write(json.dumps(records))"
   ]
  },
  {
   "cell_type": "code",
   "execution_count": null,
   "metadata": {},
   "outputs": [],
   "source": [
    "for state in us_states:\n",
    "    try:\n",
    "        result = DS_Data(state)\n",
    "    except:\n",
    "        pass"
   ]
  }
 ],
 "metadata": {
  "kernelspec": {
   "display_name": "apishwfull",
   "language": "python",
   "name": "apishwfull"
  },
  "language_info": {
   "codemirror_mode": {
    "name": "ipython",
    "version": 3
   },
   "file_extension": ".py",
   "mimetype": "text/x-python",
   "name": "python",
   "nbconvert_exporter": "python",
   "pygments_lexer": "ipython3",
   "version": "3.7.5"
  }
 },
 "nbformat": 4,
 "nbformat_minor": 4
}
