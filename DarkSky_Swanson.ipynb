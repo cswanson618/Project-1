{
 "cells": [
  {
   "cell_type": "code",
   "execution_count": 76,
   "metadata": {},
   "outputs": [],
   "source": [
    "import matplotlib.pyplot as plt\n",
    "import pandas as pd\n",
    "import numpy as np\n",
    "import requests\n",
    "import time\n",
    "import json\n",
    "import os\n",
    "import pprint\n",
    "from states import us_states\n",
    "from citipy import citipy\n",
    "lat_range = (19.50139, 64.85694)\n",
    "lng_range = (-161.75583, -68.01197)"
   ]
  },
  {
   "cell_type": "code",
   "execution_count": 77,
   "metadata": {
    "jupyter": {
     "source_hidden": true
    }
   },
   "outputs": [
    {
     "data": {
      "text/plain": [
       "721"
      ]
     },
     "execution_count": 77,
     "metadata": {},
     "output_type": "execute_result"
    }
   ],
   "source": [
    "#Leftover starter code from weather project in case we want to use openweathermap API\n",
    "lat_lngs = []\n",
    "cities = []\n",
    "\n",
    "lats = np.random.uniform(low=19.50139, high=64.85694, size=1500)\n",
    "lngs = np.random.uniform(low=-161.75583, high=67.01197, size=1500)\n",
    "lat_lngs = zip(lats, lngs)\n",
    "\n",
    "for lat_lng in lat_lngs:\n",
    "    city = citipy.nearest_city(lat_lng[0], lat_lng[1]).city_name\n",
    "    \n",
    "    if city not in cities:\n",
    "        cities.append(city)\n",
    "        \n",
    "len(cities)"
   ]
  },
  {
   "cell_type": "code",
   "execution_count": 81,
   "metadata": {},
   "outputs": [
    {
     "data": {
      "text/plain": [
       "['United States - Alabama.json']"
      ]
     },
     "execution_count": 81,
     "metadata": {},
     "output_type": "execute_result"
    }
   ],
   "source": [
    "json_files = [file for file in os.listdir() if file.endswith(\"json\")]\n",
    "json_files"
   ]
  },
  {
   "cell_type": "code",
   "execution_count": 78,
   "metadata": {},
   "outputs": [],
   "source": [
    "def DarkSkyData\n",
    "\n",
    "state = us_states\n",
    "if f\"{state}.json\" not in json_files:\n",
    "    url = \"https://www.datastro.eu/api/records/1.0/search/\"\n",
    "    payload  = {\"dataset\": \"imageserver\",\n",
    "                \"rows\": \"2\",\n",
    "                \"sort\": \"limitingmag\",\n",
    "                \"facet\": \"limitingmag\",\n",
    "                \"facet\": \"localdate\",\n",
    "                \"facet\": \"utdate\",\n",
    "                \"facet\": \"sqmreading\",\n",
    "                \"facet\": \"sqmserial\",\n",
    "                \"facet\": \"cloudcover\",\n",
    "                \"facet\": \"constellation\",\n",
    "                \"facet\": \"country\",\n",
    "                \"facet\": \"filename\",\n",
    "                \"refine.country\": state\n",
    "               }\n",
    "    r = requests.get(url, params=payload)\n",
    "    d = r.json()\n",
    "\n",
    "    records = [\n",
    "        {\n",
    "            \"Country\": record[\"fields\"][\"country\"],\n",
    "            \"Limiting Magnitude\": record[\"fields\"][\"limitingmag\"],\n",
    "            \"Date\": record[\"fields\"][\"localdate\"],\n",
    "            \"Coordinates\": record[\"fields\"][\"coord\"]} for record in d[\"records\"]]\n",
    "    \n",
    "    with open(f\"{state}.json\", \"w+\") as f:\n",
    "        f.write(json.dumps(records))"
   ]
  },
  {
   "cell_type": "code",
   "execution_count": 79,
   "metadata": {},
   "outputs": [
    {
     "data": {
      "text/plain": [
       "['United States - Alabama.json']"
      ]
     },
     "execution_count": 79,
     "metadata": {},
     "output_type": "execute_result"
    }
   ],
   "source": []
  },
  {
   "cell_type": "code",
   "execution_count": 80,
   "metadata": {},
   "outputs": [],
   "source": []
  },
  {
   "cell_type": "code",
   "execution_count": 3,
   "metadata": {},
   "outputs": [],
   "source": [
    "def Dark_Sky_Data(us_states):\n",
    "    url = \"https://www.datastro.eu/api/records/1.0/search/\"\n",
    "    payload  = {\"dataset\": \"imageserver\",\n",
    "                \"rows\": \"100000\",\n",
    "                \"sort\": \"limitingmag\",\n",
    "                \"facet\": \"limitingmag\",\n",
    "                \"facet\": \"localdate\",\n",
    "                \"facet\": \"utdate\",\n",
    "                \"facet\": \"sqmreading\",\n",
    "                \"facet\": \"sqmserial\",\n",
    "                \"facet\": \"cloudcover\",\n",
    "                \"facet\": \"constellation\",\n",
    "                \"facet\": \"country\",\n",
    "                \"facet\": \"filename\",\n",
    "                \"refine.country\": us_states\n",
    "               }\n",
    "    r = requests.get(url, params=payload)\n",
    "    return r.json()"
   ]
  },
  {
   "cell_type": "code",
   "execution_count": 4,
   "metadata": {},
   "outputs": [],
   "source": [
    "Dark_Sky_Data(us_states)\n",
    "data = []\n",
    "for us_state in us_states:\n",
    "    result = Dark_Sky_Data(us_state)\n",
    "    if result:\n",
    "        data.append(result)"
   ]
  },
  {
   "cell_type": "code",
   "execution_count": 17,
   "metadata": {},
   "outputs": [],
   "source": [
    "datalist= [data]"
   ]
  },
  {
   "cell_type": "code",
   "execution_count": 43,
   "metadata": {},
   "outputs": [],
   "source": [
    "inner_list = data[0]"
   ]
  },
  {
   "cell_type": "code",
   "execution_count": 45,
   "metadata": {},
   "outputs": [
    {
     "data": {
      "text/plain": [
       "dict"
      ]
     },
     "execution_count": 45,
     "metadata": {},
     "output_type": "execute_result"
    }
   ],
   "source": [
    "type(inner_list)"
   ]
  },
  {
   "cell_type": "code",
   "execution_count": null,
   "metadata": {},
   "outputs": [],
   "source": [
    "[for record ]"
   ]
  },
  {
   "cell_type": "code",
   "execution_count": 39,
   "metadata": {},
   "outputs": [],
   "source": [
    "skyframe = pd.DataFrame([\n",
    "    {\n",
    "        \"Country\": item[\"records\"][\"fields\"][\"country\"],\n",
    "        \"Limiting Magnitude\": item[\"fields\"][\"limitingmag\"],\n",
    "        \"Date\": item[\"fields\"][\"localdate\"],\n",
    "        \"Coordinates\": item[\"fields\"][\"coord\"]\n",
    "    } \n",
    "\n",
    "    for item in data)"
   ]
  },
  {
   "cell_type": "code",
   "execution_count": 40,
   "metadata": {},
   "outputs": [
    {
     "data": {
      "text/html": [
       "<div>\n",
       "<style scoped>\n",
       "    .dataframe tbody tr th:only-of-type {\n",
       "        vertical-align: middle;\n",
       "    }\n",
       "\n",
       "    .dataframe tbody tr th {\n",
       "        vertical-align: top;\n",
       "    }\n",
       "\n",
       "    .dataframe thead th {\n",
       "        text-align: right;\n",
       "    }\n",
       "</style>\n",
       "<table border=\"1\" class=\"dataframe\">\n",
       "  <thead>\n",
       "    <tr style=\"text-align: right;\">\n",
       "      <th></th>\n",
       "      <th>Country</th>\n",
       "      <th>Limiting Magnitude</th>\n",
       "      <th>Date</th>\n",
       "      <th>Coordinates</th>\n",
       "    </tr>\n",
       "  </thead>\n",
       "  <tbody>\n",
       "    <tr>\n",
       "      <th>0</th>\n",
       "      <td>United States - Alabama</td>\n",
       "      <td>7</td>\n",
       "      <td>2009-03-22</td>\n",
       "      <td>[33.0428, -87.394]</td>\n",
       "    </tr>\n",
       "    <tr>\n",
       "      <th>1</th>\n",
       "      <td>United States - Alabama</td>\n",
       "      <td>7</td>\n",
       "      <td>2009-03-22</td>\n",
       "      <td>[32.6994, -86.7865]</td>\n",
       "    </tr>\n",
       "  </tbody>\n",
       "</table>\n",
       "</div>"
      ],
      "text/plain": [
       "                   Country  Limiting Magnitude        Date  \\\n",
       "0  United States - Alabama                   7  2009-03-22   \n",
       "1  United States - Alabama                   7  2009-03-22   \n",
       "\n",
       "           Coordinates  \n",
       "0   [33.0428, -87.394]  \n",
       "1  [32.6994, -86.7865]  "
      ]
     },
     "execution_count": 40,
     "metadata": {},
     "output_type": "execute_result"
    }
   ],
   "source": [
    "skyframe"
   ]
  },
  {
   "cell_type": "code",
   "execution_count": null,
   "metadata": {},
   "outputs": [],
   "source": []
  }
 ],
 "metadata": {
  "kernelspec": {
   "display_name": "apishwfull",
   "language": "python",
   "name": "apishwfull"
  },
  "language_info": {
   "codemirror_mode": {
    "name": "ipython",
    "version": 3
   },
   "file_extension": ".py",
   "mimetype": "text/x-python",
   "name": "python",
   "nbconvert_exporter": "python",
   "pygments_lexer": "ipython3",
   "version": "3.7.5"
  }
 },
 "nbformat": 4,
 "nbformat_minor": 4
}
