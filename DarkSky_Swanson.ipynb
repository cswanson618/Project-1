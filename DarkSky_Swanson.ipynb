{
 "cells": [
  {
   "cell_type": "code",
   "execution_count": 1,
   "metadata": {},
   "outputs": [],
   "source": [
    "import pandas as pd\n",
    "import numpy as np\n",
    "import requests\n",
    "import json\n",
    "import os\n",
    "import pprint\n",
    "from states import us_states"
   ]
  },
  {
   "cell_type": "code",
   "execution_count": 2,
   "metadata": {},
   "outputs": [
    {
     "data": {
      "text/plain": [
       "[]"
      ]
     },
     "execution_count": 2,
     "metadata": {},
     "output_type": "execute_result"
    }
   ],
   "source": [
    "json_files = [file for file in os.listdir() if file.endswith(\"json\")]\n",
    "json_files"
   ]
  },
  {
   "cell_type": "code",
   "execution_count": 3,
   "metadata": {},
   "outputs": [],
   "source": [
    "def DS_Data(state):\n",
    "    if f\"{state}.json\" not in json_files:\n",
    "        url = \"https://www.datastro.eu/api/records/1.0/search/\"\n",
    "        payload  = {\"dataset\": \"imageserver\",\n",
    "                    \"rows\": \"9999\",\n",
    "                    \"sort\": \"limitingmag\",\n",
    "                    \"facet\": \"limitingmag\",\n",
    "                    \"facet\": \"localdate\",\n",
    "                    \"facet\": \"utdate\",\n",
    "                    \"facet\": \"sqmreading\",\n",
    "                    \"facet\": \"sqmserial\",\n",
    "                    \"facet\": \"cloudcover\",\n",
    "                    \"facet\": \"constellation\",\n",
    "                    \"facet\": \"country\",\n",
    "                    \"facet\": \"filename\",\n",
    "                    \"refine.country\": state\n",
    "               }\n",
    "        r = requests.get(url, params=payload)\n",
    "        d = r.json()\n",
    "\n",
    "        records = [\n",
    "            {\n",
    "                \"Country\": record[\"fields\"][\"country\"],\n",
    "                \"Limiting Magnitude\": record[\"fields\"][\"limitingmag\"],\n",
    "                \"Date\": record[\"fields\"][\"localdate\"],\n",
    "                \"Coordinates\": record[\"fields\"][\"coord\"]} for record in d[\"records\"]]\n",
    "    \n",
    "        with open(f\"{state}.json\", \"w+\") as f:\n",
    "            f.write(json.dumps(records))"
   ]
  },
  {
   "cell_type": "code",
   "execution_count": 4,
   "metadata": {},
   "outputs": [],
   "source": [
    "for state in us_states:\n",
    "    try:\n",
    "        result = DS_Data(state)\n",
    "    except:\n",
    "        pass"
   ]
  }
 ],
 "metadata": {
  "kernelspec": {
   "display_name": "apishwfull",
   "language": "python",
   "name": "apishwfull"
  },
  "language_info": {
   "codemirror_mode": {
    "name": "ipython",
    "version": 3
   },
   "file_extension": ".py",
   "mimetype": "text/x-python",
   "name": "python",
   "nbconvert_exporter": "python",
   "pygments_lexer": "ipython3",
   "version": "3.7.5"
  }
 },
 "nbformat": 4,
 "nbformat_minor": 4
}
